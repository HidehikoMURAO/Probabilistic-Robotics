{
 "cells": [
  {
   "cell_type": "markdown",
   "metadata": {},
   "source": [
    "- 雑音（ノイズ）：計測値（センサ値）の変動（e.g. LiDARの計測値）．例えば，LiDARの場合は，外乱光や電気回路中の電圧や電流を乱す\"何か（原因は複雑にあって，互いに影響し合っていることが多い）\"が影響して雑音が発生する．\n",
    "- 誤差：何らかの測りたいものの\"真の値\"とセンサ値の差のこと．\n",
    "- 偶然誤差（accidental error, random error）：雑音によって発生する誤差のこと．\n",
    "- 偏り（バイアス）：計測機器の取り付け位置がずれていたり，取り付けた本体が傾いていたりするときに生じるずれのこと．\n",
    "- 系統誤差（Systematic error）：バイアスによって生じる定常的な誤差のこと．系統誤差の量はセンサ値から推定することができないので，別のセンサや計測方法で突き止める必要がある．しかし，別の計測方法やセンサにも雑音やバイアスが存在する．\n",
    "- 系統誤差は，アルゴリズムの出力にも悪影響を及ぼす．対策は取りにくいが，バイアスや系統誤差の存在を頭の隅に置いて，ロボットのアルゴリズムを考えていく必要がある．"
   ]
  },
  {
   "cell_type": "markdown",
   "metadata": {},
   "source": [
    "Pythonのバージョン等のチェック（Python 2系だとコードが動かないため，3系であることを確認）"
   ]
  },
  {
   "cell_type": "code",
   "execution_count": 1,
   "metadata": {},
   "outputs": [],
   "source": [
    "import sys\n",
    "sys.version    # Check Python version"
   ]
  },
  {
   "cell_type": "markdown",
   "metadata": {},
   "source": [
    "Pandasモジュールの\"read_csv\"関数を使って data という変数に既存の計測データ（ファイル名：sensor_data_200.txt, 計測した日付，時間，光センサの計測値，LiDARの計測値）*を読み込む．"
   ]
  },
  {
   "cell_type": "code",
   "execution_count": 2,
   "metadata": {},
   "outputs": [
    {
     "data": {
      "text/html": [
       "<div>\n",
       "<style scoped>\n",
       "    .dataframe tbody tr th:only-of-type {\n",
       "        vertical-align: middle;\n",
       "    }\n",
       "\n",
       "    .dataframe tbody tr th {\n",
       "        vertical-align: top;\n",
       "    }\n",
       "\n",
       "    .dataframe thead th {\n",
       "        text-align: right;\n",
       "    }\n",
       "</style>\n",
       "<table border=\"1\" class=\"dataframe\">\n",
       "  <thead>\n",
       "    <tr style=\"text-align: right;\">\n",
       "      <th></th>\n",
       "      <th>date</th>\n",
       "      <th>time</th>\n",
       "      <th>ir</th>\n",
       "      <th>lidar</th>\n",
       "    </tr>\n",
       "  </thead>\n",
       "  <tbody>\n",
       "    <tr>\n",
       "      <th>0</th>\n",
       "      <td>20180122</td>\n",
       "      <td>95819</td>\n",
       "      <td>305</td>\n",
       "      <td>214</td>\n",
       "    </tr>\n",
       "    <tr>\n",
       "      <th>1</th>\n",
       "      <td>20180122</td>\n",
       "      <td>95822</td>\n",
       "      <td>299</td>\n",
       "      <td>211</td>\n",
       "    </tr>\n",
       "    <tr>\n",
       "      <th>2</th>\n",
       "      <td>20180122</td>\n",
       "      <td>95826</td>\n",
       "      <td>292</td>\n",
       "      <td>199</td>\n",
       "    </tr>\n",
       "    <tr>\n",
       "      <th>3</th>\n",
       "      <td>20180122</td>\n",
       "      <td>95829</td>\n",
       "      <td>321</td>\n",
       "      <td>208</td>\n",
       "    </tr>\n",
       "    <tr>\n",
       "      <th>4</th>\n",
       "      <td>20180122</td>\n",
       "      <td>95832</td>\n",
       "      <td>298</td>\n",
       "      <td>212</td>\n",
       "    </tr>\n",
       "    <tr>\n",
       "      <th>5</th>\n",
       "      <td>20180122</td>\n",
       "      <td>95835</td>\n",
       "      <td>327</td>\n",
       "      <td>212</td>\n",
       "    </tr>\n",
       "    <tr>\n",
       "      <th>6</th>\n",
       "      <td>20180122</td>\n",
       "      <td>95838</td>\n",
       "      <td>293</td>\n",
       "      <td>215</td>\n",
       "    </tr>\n",
       "    <tr>\n",
       "      <th>7</th>\n",
       "      <td>20180122</td>\n",
       "      <td>95840</td>\n",
       "      <td>309</td>\n",
       "      <td>218</td>\n",
       "    </tr>\n",
       "    <tr>\n",
       "      <th>8</th>\n",
       "      <td>20180122</td>\n",
       "      <td>95843</td>\n",
       "      <td>323</td>\n",
       "      <td>208</td>\n",
       "    </tr>\n",
       "    <tr>\n",
       "      <th>9</th>\n",
       "      <td>20180122</td>\n",
       "      <td>95846</td>\n",
       "      <td>292</td>\n",
       "      <td>217</td>\n",
       "    </tr>\n",
       "    <tr>\n",
       "      <th>10</th>\n",
       "      <td>20180122</td>\n",
       "      <td>95850</td>\n",
       "      <td>294</td>\n",
       "      <td>215</td>\n",
       "    </tr>\n",
       "    <tr>\n",
       "      <th>11</th>\n",
       "      <td>20180122</td>\n",
       "      <td>95852</td>\n",
       "      <td>323</td>\n",
       "      <td>218</td>\n",
       "    </tr>\n",
       "    <tr>\n",
       "      <th>12</th>\n",
       "      <td>20180122</td>\n",
       "      <td>95856</td>\n",
       "      <td>319</td>\n",
       "      <td>218</td>\n",
       "    </tr>\n",
       "    <tr>\n",
       "      <th>13</th>\n",
       "      <td>20180122</td>\n",
       "      <td>95858</td>\n",
       "      <td>313</td>\n",
       "      <td>214</td>\n",
       "    </tr>\n",
       "    <tr>\n",
       "      <th>14</th>\n",
       "      <td>20180122</td>\n",
       "      <td>95902</td>\n",
       "      <td>298</td>\n",
       "      <td>209</td>\n",
       "    </tr>\n",
       "    <tr>\n",
       "      <th>15</th>\n",
       "      <td>20180122</td>\n",
       "      <td>95905</td>\n",
       "      <td>296</td>\n",
       "      <td>211</td>\n",
       "    </tr>\n",
       "    <tr>\n",
       "      <th>16</th>\n",
       "      <td>20180122</td>\n",
       "      <td>95908</td>\n",
       "      <td>294</td>\n",
       "      <td>210</td>\n",
       "    </tr>\n",
       "    <tr>\n",
       "      <th>17</th>\n",
       "      <td>20180122</td>\n",
       "      <td>95911</td>\n",
       "      <td>314</td>\n",
       "      <td>215</td>\n",
       "    </tr>\n",
       "    <tr>\n",
       "      <th>18</th>\n",
       "      <td>20180122</td>\n",
       "      <td>95914</td>\n",
       "      <td>300</td>\n",
       "      <td>212</td>\n",
       "    </tr>\n",
       "    <tr>\n",
       "      <th>19</th>\n",
       "      <td>20180122</td>\n",
       "      <td>95917</td>\n",
       "      <td>324</td>\n",
       "      <td>219</td>\n",
       "    </tr>\n",
       "    <tr>\n",
       "      <th>20</th>\n",
       "      <td>20180122</td>\n",
       "      <td>95920</td>\n",
       "      <td>295</td>\n",
       "      <td>220</td>\n",
       "    </tr>\n",
       "    <tr>\n",
       "      <th>21</th>\n",
       "      <td>20180122</td>\n",
       "      <td>95922</td>\n",
       "      <td>320</td>\n",
       "      <td>214</td>\n",
       "    </tr>\n",
       "    <tr>\n",
       "      <th>22</th>\n",
       "      <td>20180122</td>\n",
       "      <td>95925</td>\n",
       "      <td>302</td>\n",
       "      <td>211</td>\n",
       "    </tr>\n",
       "    <tr>\n",
       "      <th>23</th>\n",
       "      <td>20180122</td>\n",
       "      <td>95928</td>\n",
       "      <td>303</td>\n",
       "      <td>215</td>\n",
       "    </tr>\n",
       "    <tr>\n",
       "      <th>24</th>\n",
       "      <td>20180122</td>\n",
       "      <td>95932</td>\n",
       "      <td>297</td>\n",
       "      <td>215</td>\n",
       "    </tr>\n",
       "    <tr>\n",
       "      <th>25</th>\n",
       "      <td>20180122</td>\n",
       "      <td>95934</td>\n",
       "      <td>306</td>\n",
       "      <td>210</td>\n",
       "    </tr>\n",
       "    <tr>\n",
       "      <th>26</th>\n",
       "      <td>20180122</td>\n",
       "      <td>95937</td>\n",
       "      <td>302</td>\n",
       "      <td>217</td>\n",
       "    </tr>\n",
       "    <tr>\n",
       "      <th>27</th>\n",
       "      <td>20180122</td>\n",
       "      <td>95940</td>\n",
       "      <td>296</td>\n",
       "      <td>215</td>\n",
       "    </tr>\n",
       "    <tr>\n",
       "      <th>28</th>\n",
       "      <td>20180122</td>\n",
       "      <td>95943</td>\n",
       "      <td>308</td>\n",
       "      <td>213</td>\n",
       "    </tr>\n",
       "    <tr>\n",
       "      <th>29</th>\n",
       "      <td>20180122</td>\n",
       "      <td>95947</td>\n",
       "      <td>303</td>\n",
       "      <td>211</td>\n",
       "    </tr>\n",
       "    <tr>\n",
       "      <th>...</th>\n",
       "      <td>...</td>\n",
       "      <td>...</td>\n",
       "      <td>...</td>\n",
       "      <td>...</td>\n",
       "    </tr>\n",
       "    <tr>\n",
       "      <th>58958</th>\n",
       "      <td>20180124</td>\n",
       "      <td>115907</td>\n",
       "      <td>297</td>\n",
       "      <td>210</td>\n",
       "    </tr>\n",
       "    <tr>\n",
       "      <th>58959</th>\n",
       "      <td>20180124</td>\n",
       "      <td>115910</td>\n",
       "      <td>320</td>\n",
       "      <td>204</td>\n",
       "    </tr>\n",
       "    <tr>\n",
       "      <th>58960</th>\n",
       "      <td>20180124</td>\n",
       "      <td>115914</td>\n",
       "      <td>324</td>\n",
       "      <td>205</td>\n",
       "    </tr>\n",
       "    <tr>\n",
       "      <th>58961</th>\n",
       "      <td>20180124</td>\n",
       "      <td>115917</td>\n",
       "      <td>302</td>\n",
       "      <td>199</td>\n",
       "    </tr>\n",
       "    <tr>\n",
       "      <th>58962</th>\n",
       "      <td>20180124</td>\n",
       "      <td>115919</td>\n",
       "      <td>299</td>\n",
       "      <td>203</td>\n",
       "    </tr>\n",
       "    <tr>\n",
       "      <th>58963</th>\n",
       "      <td>20180124</td>\n",
       "      <td>115923</td>\n",
       "      <td>298</td>\n",
       "      <td>206</td>\n",
       "    </tr>\n",
       "    <tr>\n",
       "      <th>58964</th>\n",
       "      <td>20180124</td>\n",
       "      <td>115925</td>\n",
       "      <td>301</td>\n",
       "      <td>206</td>\n",
       "    </tr>\n",
       "    <tr>\n",
       "      <th>58965</th>\n",
       "      <td>20180124</td>\n",
       "      <td>115929</td>\n",
       "      <td>321</td>\n",
       "      <td>206</td>\n",
       "    </tr>\n",
       "    <tr>\n",
       "      <th>58966</th>\n",
       "      <td>20180124</td>\n",
       "      <td>115932</td>\n",
       "      <td>319</td>\n",
       "      <td>209</td>\n",
       "    </tr>\n",
       "    <tr>\n",
       "      <th>58967</th>\n",
       "      <td>20180124</td>\n",
       "      <td>115935</td>\n",
       "      <td>311</td>\n",
       "      <td>208</td>\n",
       "    </tr>\n",
       "    <tr>\n",
       "      <th>58968</th>\n",
       "      <td>20180124</td>\n",
       "      <td>115938</td>\n",
       "      <td>326</td>\n",
       "      <td>204</td>\n",
       "    </tr>\n",
       "    <tr>\n",
       "      <th>58969</th>\n",
       "      <td>20180124</td>\n",
       "      <td>115941</td>\n",
       "      <td>319</td>\n",
       "      <td>206</td>\n",
       "    </tr>\n",
       "    <tr>\n",
       "      <th>58970</th>\n",
       "      <td>20180124</td>\n",
       "      <td>115944</td>\n",
       "      <td>303</td>\n",
       "      <td>201</td>\n",
       "    </tr>\n",
       "    <tr>\n",
       "      <th>58971</th>\n",
       "      <td>20180124</td>\n",
       "      <td>115947</td>\n",
       "      <td>323</td>\n",
       "      <td>203</td>\n",
       "    </tr>\n",
       "    <tr>\n",
       "      <th>58972</th>\n",
       "      <td>20180124</td>\n",
       "      <td>115950</td>\n",
       "      <td>302</td>\n",
       "      <td>205</td>\n",
       "    </tr>\n",
       "    <tr>\n",
       "      <th>58973</th>\n",
       "      <td>20180124</td>\n",
       "      <td>115953</td>\n",
       "      <td>314</td>\n",
       "      <td>202</td>\n",
       "    </tr>\n",
       "    <tr>\n",
       "      <th>58974</th>\n",
       "      <td>20180124</td>\n",
       "      <td>115956</td>\n",
       "      <td>326</td>\n",
       "      <td>204</td>\n",
       "    </tr>\n",
       "    <tr>\n",
       "      <th>58975</th>\n",
       "      <td>20180124</td>\n",
       "      <td>115959</td>\n",
       "      <td>308</td>\n",
       "      <td>201</td>\n",
       "    </tr>\n",
       "    <tr>\n",
       "      <th>58976</th>\n",
       "      <td>20180124</td>\n",
       "      <td>120002</td>\n",
       "      <td>302</td>\n",
       "      <td>209</td>\n",
       "    </tr>\n",
       "    <tr>\n",
       "      <th>58977</th>\n",
       "      <td>20180124</td>\n",
       "      <td>120005</td>\n",
       "      <td>303</td>\n",
       "      <td>207</td>\n",
       "    </tr>\n",
       "    <tr>\n",
       "      <th>58978</th>\n",
       "      <td>20180124</td>\n",
       "      <td>120009</td>\n",
       "      <td>310</td>\n",
       "      <td>206</td>\n",
       "    </tr>\n",
       "    <tr>\n",
       "      <th>58979</th>\n",
       "      <td>20180124</td>\n",
       "      <td>120012</td>\n",
       "      <td>330</td>\n",
       "      <td>208</td>\n",
       "    </tr>\n",
       "    <tr>\n",
       "      <th>58980</th>\n",
       "      <td>20180124</td>\n",
       "      <td>120015</td>\n",
       "      <td>305</td>\n",
       "      <td>205</td>\n",
       "    </tr>\n",
       "    <tr>\n",
       "      <th>58981</th>\n",
       "      <td>20180124</td>\n",
       "      <td>120018</td>\n",
       "      <td>301</td>\n",
       "      <td>202</td>\n",
       "    </tr>\n",
       "    <tr>\n",
       "      <th>58982</th>\n",
       "      <td>20180124</td>\n",
       "      <td>120021</td>\n",
       "      <td>320</td>\n",
       "      <td>206</td>\n",
       "    </tr>\n",
       "    <tr>\n",
       "      <th>58983</th>\n",
       "      <td>20180124</td>\n",
       "      <td>120023</td>\n",
       "      <td>313</td>\n",
       "      <td>208</td>\n",
       "    </tr>\n",
       "    <tr>\n",
       "      <th>58984</th>\n",
       "      <td>20180124</td>\n",
       "      <td>120026</td>\n",
       "      <td>297</td>\n",
       "      <td>200</td>\n",
       "    </tr>\n",
       "    <tr>\n",
       "      <th>58985</th>\n",
       "      <td>20180124</td>\n",
       "      <td>120030</td>\n",
       "      <td>323</td>\n",
       "      <td>204</td>\n",
       "    </tr>\n",
       "    <tr>\n",
       "      <th>58986</th>\n",
       "      <td>20180124</td>\n",
       "      <td>120033</td>\n",
       "      <td>326</td>\n",
       "      <td>207</td>\n",
       "    </tr>\n",
       "    <tr>\n",
       "      <th>58987</th>\n",
       "      <td>20180124</td>\n",
       "      <td>120036</td>\n",
       "      <td>321</td>\n",
       "      <td>208</td>\n",
       "    </tr>\n",
       "  </tbody>\n",
       "</table>\n",
       "<p>58988 rows × 4 columns</p>\n",
       "</div>"
      ],
      "text/plain": [
       "           date    time   ir  lidar\n",
       "0      20180122   95819  305    214\n",
       "1      20180122   95822  299    211\n",
       "2      20180122   95826  292    199\n",
       "3      20180122   95829  321    208\n",
       "4      20180122   95832  298    212\n",
       "5      20180122   95835  327    212\n",
       "6      20180122   95838  293    215\n",
       "7      20180122   95840  309    218\n",
       "8      20180122   95843  323    208\n",
       "9      20180122   95846  292    217\n",
       "10     20180122   95850  294    215\n",
       "11     20180122   95852  323    218\n",
       "12     20180122   95856  319    218\n",
       "13     20180122   95858  313    214\n",
       "14     20180122   95902  298    209\n",
       "15     20180122   95905  296    211\n",
       "16     20180122   95908  294    210\n",
       "17     20180122   95911  314    215\n",
       "18     20180122   95914  300    212\n",
       "19     20180122   95917  324    219\n",
       "20     20180122   95920  295    220\n",
       "21     20180122   95922  320    214\n",
       "22     20180122   95925  302    211\n",
       "23     20180122   95928  303    215\n",
       "24     20180122   95932  297    215\n",
       "25     20180122   95934  306    210\n",
       "26     20180122   95937  302    217\n",
       "27     20180122   95940  296    215\n",
       "28     20180122   95943  308    213\n",
       "29     20180122   95947  303    211\n",
       "...         ...     ...  ...    ...\n",
       "58958  20180124  115907  297    210\n",
       "58959  20180124  115910  320    204\n",
       "58960  20180124  115914  324    205\n",
       "58961  20180124  115917  302    199\n",
       "58962  20180124  115919  299    203\n",
       "58963  20180124  115923  298    206\n",
       "58964  20180124  115925  301    206\n",
       "58965  20180124  115929  321    206\n",
       "58966  20180124  115932  319    209\n",
       "58967  20180124  115935  311    208\n",
       "58968  20180124  115938  326    204\n",
       "58969  20180124  115941  319    206\n",
       "58970  20180124  115944  303    201\n",
       "58971  20180124  115947  323    203\n",
       "58972  20180124  115950  302    205\n",
       "58973  20180124  115953  314    202\n",
       "58974  20180124  115956  326    204\n",
       "58975  20180124  115959  308    201\n",
       "58976  20180124  120002  302    209\n",
       "58977  20180124  120005  303    207\n",
       "58978  20180124  120009  310    206\n",
       "58979  20180124  120012  330    208\n",
       "58980  20180124  120015  305    205\n",
       "58981  20180124  120018  301    202\n",
       "58982  20180124  120021  320    206\n",
       "58983  20180124  120023  313    208\n",
       "58984  20180124  120026  297    200\n",
       "58985  20180124  120030  323    204\n",
       "58986  20180124  120033  326    207\n",
       "58987  20180124  120036  321    208\n",
       "\n",
       "[58988 rows x 4 columns]"
      ]
     },
     "execution_count": 2,
     "metadata": {},
     "output_type": "execute_result"
    }
   ],
   "source": [
    "import pandas as pd\n",
    "data = pd.read_csv(\"sensor_data_200.txt\", delimiter = \" \", \n",
    "                  header = None, names = (\"date\", \"time\", \"ir\", \"lidar\"))\n",
    "data"
   ]
  },
  {
   "cell_type": "code",
   "execution_count": 3,
   "metadata": {},
   "outputs": [
    {
     "name": "stdout",
     "output_type": "stream",
     "text": [
      "0    214\n",
      "1    211\n",
      "2    199\n",
      "3    208\n",
      "4    212\n",
      "Name: lidar, dtype: int64\n"
     ]
    }
   ],
   "source": [
    "print(data[\"lidar\"][0:5])"
   ]
  },
  {
   "cell_type": "markdown",
   "metadata": {},
   "source": [
    "続いて，sensor_data_200.txt における，LiDARのセンサ値値の規則性の有無を調べるために，センサ値のヒストグラムの描画を行う．"
   ]
  },
  {
   "cell_type": "code",
   "execution_count": 4,
   "metadata": {},
   "outputs": [
    {
     "data": {
      "image/png": "[encoded data removed]",
      "text/plain": [
       "<Figure size 432x288 with 1 Axes>"
      ]
     },
     "metadata": {
      "needs_background": "light"
     },
     "output_type": "display_data"
    }
   ],
   "source": [
    "%matplotlib inline\n",
    "import matplotlib.pyplot as plt\n",
    "data[\"lidar\"].hist(bins = max(data[\"lidar\"]) - min(data[\"lidar\"]), align = 'left')\n",
    "plt.show()"
   ]
  },
  {
   "cell_type": "markdown",
   "metadata": {},
   "source": [
    "以下の値を求める．\n",
    "1. センサ値の平均値を求める．\n",
    "1. センサ値の分散を求める．\n",
    "1. センサ値の標準偏差を求める．\n",
    "\n",
    "なお，分散と標準偏差は各センサ値のばらつきを表す．\n",
    "\n",
    "センサ値${\\bf{Z}}_{LiDAR}$は以下のように表される．\n",
    "<div style=\"text-align: center;\">\n",
    "${\\bf{Z}}_{LiDAR} = \\{ z_{i} | i = 0, 1, 2, \\cdots, N-1\\}$\n",
    "</div>\n",
    "${\\bf{Z}}_{LiDAR}$はリスト（ベクトル）を表し，$z_{i}$の$i$は（0からの）要素番号を表し，要素数は$N$となる．\n",
    "\n",
    "- 標本分散$\\sigma^{2}$：集合の要素の値を全て足して，要素数で割ったもの\n",
    "<div style=\"text-align: center;\">\n",
    "$\\mu = \\cfrac{1}{N} \\sum_{i = 0}^{N-1} z_{i}$\n",
    "</div>\n",
    "- 分散には標本分散$\\sigma^{2}$の他に不偏分散$s^{2}$がある．\n",
    "- 標本分散$\\sigma^{2}$は，各センサ値と平均値（$\\mu$）の差を二乗したものの平均値なので，各値と平均値（$\\mu$）が離れているほど大きくなる．\n",
    "- 不偏分散$s^{2}$：標本分散$\\sigma^{2}$において要素数$N$で割るところを$N-1$で割ったもの．\n",
    "<div style=\"text-align: center;\">\n",
    "$\\sigma^{2} = \\cfrac{1}{N} \\sum_{i = 0}^{N-1} (z_{i} - \\mu)^{2} \\ \\ \\ (N > 0)$\n",
    "</div>\n",
    "<div style=\"text-align: center;\">\n",
    "$s^{2} = \\cfrac{1}{N-1} \\sum_{i = 0}^{N-1} (z_{i} - \\mu)^{2} \\ \\ \\ (N > 1)$\n",
    "</div>\n",
    "- 標本分散$\\sigma^{2}$と不偏分散$s^{2}$においては，Nの値が小さい時に違いが現れる．"
   ]
  },
  {
   "cell_type": "code",
   "execution_count": 5,
   "metadata": {},
   "outputs": [
    {
     "name": "stdout",
     "output_type": "stream",
     "text": [
      "209.73713297619855 209.73713297619855\n"
     ]
    }
   ],
   "source": [
    "# 平均値の計算\n",
    "mean1 = sum(data[\"lidar\"].values)/len(data[\"lidar\"].values)\n",
    "mean2 = data[\"lidar\"].mean()\n",
    "print(mean1, mean2)"
   ]
  },
  {
   "cell_type": "code",
   "execution_count": 6,
   "metadata": {},
   "outputs": [
    {
     "data": {
      "image/png": "[encoded data removed]",
      "text/plain": [
       "<Figure size 432x288 with 1 Axes>"
      ]
     },
     "metadata": {
      "needs_background": "light"
     },
     "output_type": "display_data"
    }
   ],
   "source": [
    "# LiDARのセンサ値のヒストグラムの作成\n",
    "data[\"lidar\"].hist(bins = max(data[\"lidar\"]) - min(data[\"lidar\"]), \n",
    "        color=\"orange\", align = 'left')\n",
    "plt.vlines(mean1, ymin=(), ymax=5000, color=\"red\")\n",
    "plt.show()"
   ]
  },
  {
   "cell_type": "markdown",
   "metadata": {},
   "source": [
    "sensor_data_200.txt の分散を計算する．以下のコードにおいては，定義から計算した場合，Pandasで計算した場合，Numpyで計算した場合を示している．\n",
    "\n",
    "各計算結果からPandasとNumpyを使った結果は一致していることがわかる．\n",
    "Pythonでは定義から計算するよりも，PandasやNumpyを使って計算することが推奨されており，計算速度もそちらの方が速い．"
   ]
  },
  {
   "cell_type": "code",
   "execution_count": 7,
   "metadata": {},
   "outputs": [
    {
     "name": "stdout",
     "output_type": "stream",
     "text": [
      "23.407709770274106\n",
      "23.40810659855441\n",
      "23.4077097702742\n",
      "23.408106598554504\n",
      "23.4077097702742\n",
      "23.408106598554504\n"
     ]
    }
   ],
   "source": [
    "# 定義から計算\n",
    "zs = data[\"lidar\"].values # 要素数(N)\n",
    "mean = sum(zs) / len(zs)  # $mu$（=mean）\n",
    "diff_square = [(z - mean)**2 for z in zs]\n",
    "\n",
    "sampling_var = sum(diff_square) / (len(zs))     # 標本分散\n",
    "unbiased_var = sum(diff_square) / (len(zs) - 1) # 不偏分散\n",
    "\n",
    "print(sampling_var) # 定義から計算した標本分散を表示\n",
    "print(unbiased_var) # 定義から計算した不偏分散を表示\n",
    "\n",
    "# Pandasで計算\n",
    "pandas_sampling_var = data[\"lidar\"].var(ddof = False) # 標本分散\n",
    "pandas_default_var = data[\"lidar\"].var()              # 不偏分散\n",
    "\n",
    "print(pandas_sampling_var) # 定義から計算した標本分散を表示\n",
    "print(pandas_default_var)  # 定義から計算した不偏分散を表示\n",
    "\n",
    "# Numpyで計算\n",
    "import numpy as np\n",
    "\n",
    "numpy_default_var = np.var(data[\"lidar\"])            # 標本分散\n",
    "numpy_unbiased_var = np.var(data[\"lidar\"], ddof = 1) # 不偏分散\n",
    "\n",
    "print(numpy_default_var)\n",
    "print(numpy_unbiased_var)"
   ]
  },
  {
   "cell_type": "markdown",
   "metadata": {},
   "source": [
    "続いて標準偏差$\\sigma$を求める（標準偏差$\\sigma$は標本分散$\\sigma^2$の正の平方根）．\n",
    "\n",
    "計算結果から，Pandasは不偏分散を用いて標準偏差を求めていることがわかる．"
   ]
  },
  {
   "cell_type": "code",
   "execution_count": 8,
   "metadata": {},
   "outputs": [
    {
     "name": "stdout",
     "output_type": "stream",
     "text": [
      "4.838151482774605\n",
      "4.83819249292072\n",
      "4.838192492920729\n"
     ]
    }
   ],
   "source": [
    "import math\n",
    "\n",
    "# 定義から計算\n",
    "stddev1 = math.sqrt(sampling_var)\n",
    "stddev2 = math.sqrt(unbiased_var)\n",
    "\n",
    "# Pandasで計算\n",
    "pandas_stddev = data[\"lidar\"].std() # Pandas calculates standard deviation from unbiased variance\n",
    "\n",
    "print(stddev1)\n",
    "print(stddev2)\n",
    "print(pandas_stddev)"
   ]
  },
  {
   "cell_type": "markdown",
   "metadata": {},
   "source": [
    "- 確率：値の出やすさを数値化したもの"
   ]
  },
  {
   "cell_type": "markdown",
   "metadata": {},
   "source": [
    "まず，各センサ値の頻度を集計してみます．\n",
    "\n",
    "以下では，value_countsでlidar列のセンサ値の頻度を数え上げて，pd.DataFrameでデータフレームにしています．"
   ]
  },
  {
   "cell_type": "code",
   "execution_count": 9,
   "metadata": {
    "scrolled": true
   },
   "outputs": [
    {
     "data": {
      "text/html": [
       "<div>\n",
       "<style scoped>\n",
       "    .dataframe tbody tr th:only-of-type {\n",
       "        vertical-align: middle;\n",
       "    }\n",
       "\n",
       "    .dataframe tbody tr th {\n",
       "        vertical-align: top;\n",
       "    }\n",
       "\n",
       "    .dataframe thead th {\n",
       "        text-align: right;\n",
       "    }\n",
       "</style>\n",
       "<table border=\"1\" class=\"dataframe\">\n",
       "  <thead>\n",
       "    <tr style=\"text-align: right;\">\n",
       "      <th></th>\n",
       "      <th>211</th>\n",
       "      <th>210</th>\n",
       "      <th>208</th>\n",
       "      <th>209</th>\n",
       "      <th>212</th>\n",
       "      <th>207</th>\n",
       "      <th>213</th>\n",
       "      <th>206</th>\n",
       "      <th>214</th>\n",
       "      <th>205</th>\n",
       "      <th>...</th>\n",
       "      <th>197</th>\n",
       "      <th>196</th>\n",
       "      <th>223</th>\n",
       "      <th>224</th>\n",
       "      <th>226</th>\n",
       "      <th>195</th>\n",
       "      <th>194</th>\n",
       "      <th>193</th>\n",
       "      <th>227</th>\n",
       "      <th>229</th>\n",
       "    </tr>\n",
       "  </thead>\n",
       "  <tbody>\n",
       "    <tr>\n",
       "      <th>lidar</th>\n",
       "      <td>4409</td>\n",
       "      <td>4355</td>\n",
       "      <td>4261</td>\n",
       "      <td>4228</td>\n",
       "      <td>4201</td>\n",
       "      <td>3920</td>\n",
       "      <td>3897</td>\n",
       "      <td>3674</td>\n",
       "      <td>3572</td>\n",
       "      <td>3225</td>\n",
       "      <td>...</td>\n",
       "      <td>84</td>\n",
       "      <td>59</td>\n",
       "      <td>55</td>\n",
       "      <td>32</td>\n",
       "      <td>15</td>\n",
       "      <td>13</td>\n",
       "      <td>10</td>\n",
       "      <td>4</td>\n",
       "      <td>3</td>\n",
       "      <td>1</td>\n",
       "    </tr>\n",
       "  </tbody>\n",
       "</table>\n",
       "<p>1 rows × 35 columns</p>\n",
       "</div>"
      ],
      "text/plain": [
       "        211   210   208   209   212   207   213   206   214   205  ...  197  \\\n",
       "lidar  4409  4355  4261  4228  4201  3920  3897  3674  3572  3225  ...   84   \n",
       "\n",
       "       196  223  224  226  195  194  193  227  229  \n",
       "lidar   59   55   32   15   13   10    4    3    1  \n",
       "\n",
       "[1 rows x 35 columns]"
      ]
     },
     "execution_count": 9,
     "metadata": {},
     "output_type": "execute_result"
    }
   ],
   "source": [
    "freqs = pd.DataFrame(data[\"lidar\"].value_counts())\n",
    "freqs.transpose() # Output horizontally"
   ]
  },
  {
   "cell_type": "markdown",
   "metadata": {},
   "source": [
    "続いて，freqsに確率の列を追加してみます．\n",
    "\n",
    "1行目で，lidar列に入っているそれぞれの頻度を，dataの要素数で割っています．"
   ]
  },
  {
   "cell_type": "code",
   "execution_count": 10,
   "metadata": {},
   "outputs": [
    {
     "data": {
      "text/html": [
       "<div>\n",
       "<style scoped>\n",
       "    .dataframe tbody tr th:only-of-type {\n",
       "        vertical-align: middle;\n",
       "    }\n",
       "\n",
       "    .dataframe tbody tr th {\n",
       "        vertical-align: top;\n",
       "    }\n",
       "\n",
       "    .dataframe thead th {\n",
       "        text-align: right;\n",
       "    }\n",
       "</style>\n",
       "<table border=\"1\" class=\"dataframe\">\n",
       "  <thead>\n",
       "    <tr style=\"text-align: right;\">\n",
       "      <th></th>\n",
       "      <th>211</th>\n",
       "      <th>210</th>\n",
       "      <th>208</th>\n",
       "      <th>209</th>\n",
       "      <th>212</th>\n",
       "      <th>207</th>\n",
       "      <th>213</th>\n",
       "      <th>206</th>\n",
       "      <th>214</th>\n",
       "      <th>205</th>\n",
       "      <th>...</th>\n",
       "      <th>197</th>\n",
       "      <th>196</th>\n",
       "      <th>223</th>\n",
       "      <th>224</th>\n",
       "      <th>226</th>\n",
       "      <th>195</th>\n",
       "      <th>194</th>\n",
       "      <th>193</th>\n",
       "      <th>227</th>\n",
       "      <th>229</th>\n",
       "    </tr>\n",
       "  </thead>\n",
       "  <tbody>\n",
       "    <tr>\n",
       "      <th>lidar</th>\n",
       "      <td>4409.000000</td>\n",
       "      <td>4355.000000</td>\n",
       "      <td>4261.000000</td>\n",
       "      <td>4228.000000</td>\n",
       "      <td>4201.000000</td>\n",
       "      <td>3920.000000</td>\n",
       "      <td>3897.000000</td>\n",
       "      <td>3674.000000</td>\n",
       "      <td>3572.000000</td>\n",
       "      <td>3225.000000</td>\n",
       "      <td>...</td>\n",
       "      <td>84.000000</td>\n",
       "      <td>59.000</td>\n",
       "      <td>55.000000</td>\n",
       "      <td>32.000000</td>\n",
       "      <td>15.000000</td>\n",
       "      <td>13.00000</td>\n",
       "      <td>10.00000</td>\n",
       "      <td>4.000000</td>\n",
       "      <td>3.000000</td>\n",
       "      <td>1.000000</td>\n",
       "    </tr>\n",
       "    <tr>\n",
       "      <th>probs</th>\n",
       "      <td>0.074744</td>\n",
       "      <td>0.073829</td>\n",
       "      <td>0.072235</td>\n",
       "      <td>0.071676</td>\n",
       "      <td>0.071218</td>\n",
       "      <td>0.066454</td>\n",
       "      <td>0.066064</td>\n",
       "      <td>0.062284</td>\n",
       "      <td>0.060555</td>\n",
       "      <td>0.054672</td>\n",
       "      <td>...</td>\n",
       "      <td>0.001424</td>\n",
       "      <td>0.001</td>\n",
       "      <td>0.000932</td>\n",
       "      <td>0.000542</td>\n",
       "      <td>0.000254</td>\n",
       "      <td>0.00022</td>\n",
       "      <td>0.00017</td>\n",
       "      <td>0.000068</td>\n",
       "      <td>0.000051</td>\n",
       "      <td>0.000017</td>\n",
       "    </tr>\n",
       "  </tbody>\n",
       "</table>\n",
       "<p>2 rows × 35 columns</p>\n",
       "</div>"
      ],
      "text/plain": [
       "               211          210          208          209          212  \\\n",
       "lidar  4409.000000  4355.000000  4261.000000  4228.000000  4201.000000   \n",
       "probs     0.074744     0.073829     0.072235     0.071676     0.071218   \n",
       "\n",
       "               207          213          206          214          205  ...  \\\n",
       "lidar  3920.000000  3897.000000  3674.000000  3572.000000  3225.000000  ...   \n",
       "probs     0.066454     0.066064     0.062284     0.060555     0.054672  ...   \n",
       "\n",
       "             197     196        223        224        226       195       194  \\\n",
       "lidar  84.000000  59.000  55.000000  32.000000  15.000000  13.00000  10.00000   \n",
       "probs   0.001424   0.001   0.000932   0.000542   0.000254   0.00022   0.00017   \n",
       "\n",
       "            193       227       229  \n",
       "lidar  4.000000  3.000000  1.000000  \n",
       "probs  0.000068  0.000051  0.000017  \n",
       "\n",
       "[2 rows x 35 columns]"
      ]
     },
     "execution_count": 10,
     "metadata": {},
     "output_type": "execute_result"
    }
   ],
   "source": [
    "freqs[\"probs\"] = freqs[\"lidar\"]/len(data[\"lidar\"])\n",
    "freqs.transpose()"
   ]
  },
  {
   "cell_type": "markdown",
   "metadata": {},
   "source": [
    "確率の合計が1になっていることを確認します．"
   ]
  },
  {
   "cell_type": "code",
   "execution_count": 11,
   "metadata": {},
   "outputs": [
    {
     "data": {
      "text/plain": [
       "1.0"
      ]
     },
     "execution_count": 11,
     "metadata": {},
     "output_type": "execute_result"
    }
   ],
   "source": [
    "sum(freqs[\"probs\"])"
   ]
  },
  {
   "cell_type": "markdown",
   "metadata": {},
   "source": [
    "出力結果を並べ替えて，横軸にセンサ値を，縦軸に確率を描いてみます．\n",
    "ヒストグラムと似ていますが，縦軸は頻度ではなく確率であることに注意が必要です．\n",
    "\n",
    "- 確率質量関数：個別の確率$P(z)$を与える関数$P$\n",
    "- 確率分布：各変数に対して確率がどのように分布するのかを表す実体"
   ]
  },
  {
   "cell_type": "code",
   "execution_count": 12,
   "metadata": {},
   "outputs": [
    {
     "data": {
      "image/png": "[encoded data removed]",
      "text/plain": [
       "<Figure size 432x288 with 1 Axes>"
      ]
     },
     "metadata": {
      "needs_background": "light"
     },
     "output_type": "display_data"
    }
   ],
   "source": [
    "freqs[\"probs\"].sort_index().plot.bar()\n",
    "plt.show() # The vertical axis changes from frequency to establishment"
   ]
  },
  {
   "cell_type": "markdown",
   "metadata": {},
   "source": [
    "確率分布を用いたシミュレーションを行ってみます．\n",
    "\n",
    "シミュレーションでは，先に求めた確率分布（$P_{{\\bf{Z}}LiDAR}$と記する）に従って$z$を選びます．\n",
    "Pandasでは，sampleメソッドを使用することで確率分布から値を選ぶことができます．"
   ]
  },
  {
   "cell_type": "code",
   "execution_count": 13,
   "metadata": {},
   "outputs": [
    {
     "data": {
      "text/plain": [
       "206"
      ]
     },
     "execution_count": 13,
     "metadata": {},
     "output_type": "execute_result"
    }
   ],
   "source": [
    "def drawing(): # Define as a function\n",
    "    return freqs.sample(n = 1, weights = \"probs\").index[0]\n",
    "\n",
    "drawing() # meaning of execution, not drawing graph"
   ]
  },
  {
   "cell_type": "markdown",
   "metadata": {},
   "source": [
    "sampleの引数nが選ぶ個数，weights = \"probs\"がデータフレームの\"probs\"の列に選ぶときの確率が入っていることを意味しています．\n",
    "sampleの後ろの.index[0]は，データフレームのレコードの名前（この場合はセンサ値）を取り出すためのもので，これによってセンサ値を得ることができます．"
   ]
  },
  {
   "cell_type": "markdown",
   "metadata": {},
   "source": [
    "上記の処理を数式で表すと\n",
    "<div style=\"text-align: center;\">\n",
    "$z_{N} \\sim P_{{\\bf{Z}}LiDAR}$\n",
    "</div>\n",
    "となります．\n",
    "\n",
    "ここで，左辺の$z_{N}$は実際に選ばれた値を表します．"
   ]
  },
  {
   "cell_type": "markdown",
   "metadata": {},
   "source": [
    "Pandasでsampleメソッドを使って確率分布から値を選ぶことが可能です．N-1回目までのセンサ値で作った分布から$z_{N}$を発生させるには以下のようにします．"
   ]
  },
  {
   "cell_type": "code",
   "execution_count": 14,
   "metadata": {},
   "outputs": [
    {
     "data": {
      "image/png": "[encoded data removed]",
      "text/plain": [
       "<Figure size 432x288 with 1 Axes>"
      ]
     },
     "metadata": {
      "needs_background": "light"
     },
     "output_type": "display_data"
    }
   ],
   "source": [
    "samples = [drawing() for i in range(len(data))]\n",
    "# samples = [drawing() for i in range(100)]\n",
    "simulated = pd.DataFrame(samples, columns = [\"lidar\"])\n",
    "p = simulated[\"lidar\"]\n",
    "p.hist(bins = max(p) - min(p), color = \"orange\", align = 'left')\n",
    "plt.show()"
   ]
  },
  {
   "cell_type": "markdown",
   "metadata": {},
   "source": [
    "- ドローイング（drawing）：母集団から個々のものを抽出すること\n",
    "- サンプリング（sampling）：母集団から集団の一部を抽出すること"
   ]
  },
  {
   "cell_type": "code",
   "execution_count": null,
   "metadata": {},
   "outputs": [],
   "source": []
  }
 ],
 "metadata": {
  "@webio": {
   "lastCommId": null,
   "lastKernelId": null
  },
  "kernelspec": {
   "display_name": "Python 3",
   "language": "python",
   "name": "python3"
  },
  "language_info": {
   "codemirror_mode": {
    "name": "ipython",
    "version": 3
   },
   "file_extension": ".py",
   "mimetype": "text/x-python",
   "name": "python",
   "nbconvert_exporter": "python",
   "pygments_lexer": "ipython3",
   "version": "3.7.6"
  }
 },
 "nbformat": 4,
 "nbformat_minor": 2
}
